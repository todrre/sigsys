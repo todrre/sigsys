{
 "cells": [
  {
   "cell_type": "markdown",
   "id": "b9c181a3",
   "metadata": {},
   "source": [
    "Koden nedanför ska uppfylla "
   ]
  },
  {
   "cell_type": "code",
   "execution_count": null,
   "id": "a123a411",
   "metadata": {},
   "outputs": [
    {
     "data": {
      "application/vnd.jupyter.widget-view+json": {
       "model_id": "0ec545698696419e9c3f84589a8df84a",
       "version_major": 2,
       "version_minor": 0
      },
      "text/plain": [
       "interactive(children=(FloatSlider(value=1.0, description='G', max=10.0, min=0.1), FloatSlider(value=1.0, descr…"
      ]
     },
     "metadata": {},
     "output_type": "display_data"
    },
    {
     "data": {
      "text/plain": [
       "<function __main__.plot_system(G=1.0, R=1.0, C=1.0, R_2=1.0, R_3=1.0)>"
      ]
     },
     "execution_count": 6,
     "metadata": {},
     "output_type": "execute_result"
    }
   ],
   "source": [
    "import control as ct\n",
    "import matplotlib.pyplot as plt\n",
    "import numpy as np\n",
    "import ipywidgets as widgets\n",
    "from ipywidgets import interact\n",
    "\n",
    "def plot_system(G=1.0, R=1.0, C=1.0, R_2=1.0, R_3=1.0):\n",
    "    a = G / (R * C)\n",
    "\n",
    "    H_3 = ct.tf([1, 0, 0], [1, a, R_2 / R_3 * a**2])\n",
    "    H_2 = a * ct.tf([1, 0], [1, a, R_2 / R_3 * a**2])\n",
    "    H_1 = a ** 2 * ct.tf([1], [1, a, R_2 / R_3 * a**2])\n",
    "    systems = [H_3, H_2, H_1]\n",
    "    titles = [\"H₃\", \"H₂\", \"H₁\"]\n",
    "\n",
    "    fig, axes = plt.subplots(3, 3, figsize=(15, 12))\n",
    "\n",
    "    # --- Pol-noll ---\n",
    "    for i, (sys, title) in enumerate(zip(systems, titles)):\n",
    "        ct.pzmap(sys, plot=True, ax=axes[0, i])\n",
    "        axes[0, i].set_title(f\"Pol–noll karta för {title}\")\n",
    "\n",
    "    # --- Impulssvar ---\n",
    "    for i, (sys, title) in enumerate(zip(systems, titles)):\n",
    "        t, y = ct.impulse_response(sys)\n",
    "        axes[1, i].plot(t, y)\n",
    "        axes[1, i].grid(True)\n",
    "        axes[1, i].set_title(f\"Impulssvar för {title}\")\n",
    "        axes[1, i].set_xlabel(\"Tid [s]\")\n",
    "        axes[1, i].set_ylabel(\"Amplitude\")\n",
    "\n",
    "    # --- Bode ---\n",
    "    omega = np.logspace(-4, 4, 500)\n",
    "    for i, (sys, title) in enumerate(zip(systems, titles)):\n",
    "        s = 1j * omega\n",
    "        H_jw = sys(s)\n",
    "        mag = 20 * np.log10(np.abs(H_jw))\n",
    "        phase = np.angle(H_jw, deg=True)\n",
    "\n",
    "        ax_mag = axes[2, i]\n",
    "        ax_phase = ax_mag.twinx()\n",
    "\n",
    "        ax_mag.semilogx(omega, mag, 'b')\n",
    "        ax_mag.set_ylabel(\"Magnitude [dB]\", color='b')\n",
    "        ax_mag.set_xlabel(\"Frekvens [rad/s]\")\n",
    "        ax_mag.grid(True, which=\"both\")\n",
    "\n",
    "        ax_phase.semilogx(omega, phase, 'r--')\n",
    "        ax_phase.set_ylabel(\"Fas [°]\", color='r')\n",
    "\n",
    "        ax_mag.set_title(f\"Bode-diagram för {title}\")\n",
    "\n",
    "    plt.suptitle(f\"System med G={G}, R={R}, C={C}\", fontsize=16)\n",
    "    plt.tight_layout()\n",
    "    plt.show()\n",
    "\n",
    "# Skapa interaktiva sliders\n",
    "interact(plot_system,\n",
    "         G=widgets.FloatSlider(value=1, min=0.1, max=10, step=0.1),\n",
    "         R=widgets.FloatSlider(value=1, min=0.1, max=10, step=0.1),\n",
    "         C=widgets.FloatSlider(value=1, min=0.1, max=10, step=0.1),\n",
    "         R_2=widgets.FloatSlider(value=1, min=0.1, max=10, step=0.1),\n",
    "         R_3=widgets.FloatSlider(value=1, min=0.1, max=10, step=0.1))\n"
   ]
  }
 ],
 "metadata": {
  "kernelspec": {
   "display_name": "Python 3",
   "language": "python",
   "name": "python3"
  },
  "language_info": {
   "codemirror_mode": {
    "name": "ipython",
    "version": 3
   },
   "file_extension": ".py",
   "mimetype": "text/x-python",
   "name": "python",
   "nbconvert_exporter": "python",
   "pygments_lexer": "ipython3",
   "version": "3.13.7"
  }
 },
 "nbformat": 4,
 "nbformat_minor": 5
}
